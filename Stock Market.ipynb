{
 "cells": [
  {
   "cell_type": "markdown",
   "id": "d04ddb08",
   "metadata": {},
   "source": [
    "# Stock Market"
   ]
  },
  {
   "cell_type": "code",
   "execution_count": 1,
   "id": "fca3889c",
   "metadata": {},
   "outputs": [],
   "source": [
    "from keras.models import Sequential\n",
    "from keras.layers import Dense, LSTM, Dropout, Activation\n",
    "\n",
    "from sklearn.preprocessing import MinMaxScaler\n",
    "\n",
    "import numpy as np # linear algebra\n",
    "import pandas as pd # data processing, CSV file I/O (e.g. pd.read_csv)\n",
    "\n",
    "import os\n",
    "#print(os.listdir(\"../input\"))\n",
    "\n",
    "import matplotlib.pyplot as plt"
   ]
  },
  {
   "cell_type": "code",
   "execution_count": 3,
   "id": "cf8c4fd6",
   "metadata": {},
   "outputs": [],
   "source": [
    "train = pd.read_csv(r'F:\\Oasis\\lets\\trainset.csv')\n",
    "test = pd.read_csv(r'F:\\Oasis\\lets\\testset.csv')"
   ]
  },
  {
   "cell_type": "code",
   "execution_count": 4,
   "id": "615899bb",
   "metadata": {},
   "outputs": [],
   "source": [
    "metric = 'Open' # What matric to model and predict\n",
    "timestamp = 64 # Maximum number of timestamps to learn from\n",
    "layers = 3 # Number of layers in LSTM\n",
    "neurons = 264 # Number of neurons in each layer\n",
    "epochs = 64 # Number of times the entire data needs to be looped upon\n",
    "batch_size = 16 # Weights updated after n rows\n",
    "validation_split = 0.1 # Percentage of data to validate the model when training\n",
    "dropout = 0.2 # Regularisation parameter\n",
    "optimizer = 'adam' \n",
    "loss = 'mean_squared_error'"
   ]
  },
  {
   "cell_type": "code",
   "execution_count": 5,
   "id": "879c61b6",
   "metadata": {},
   "outputs": [],
   "source": [
    "loc = train.columns.get_loc(metric)\n",
    "train_data = train.iloc[:,loc:loc + 1].values"
   ]
  },
  {
   "cell_type": "code",
   "execution_count": 6,
   "id": "9e74eafa",
   "metadata": {},
   "outputs": [],
   "source": [
    "sc = MinMaxScaler(feature_range = (0,1))\n",
    "\n",
    "train_data = sc.fit_transform(train_data)"
   ]
  },
  {
   "cell_type": "code",
   "execution_count": 7,
   "id": "6d16e268",
   "metadata": {},
   "outputs": [],
   "source": [
    "train_x = []\n",
    "train_y = []\n",
    "for i in range(0, len(train_data) - timestamp - 1):\n",
    "    train_x.append(train_data[i : i + timestamp, 0])\n",
    "    train_y.append(train_data[i + timestamp, 0])\n",
    "train_x, train_y = np.array(train_x), np.array(train_y)"
   ]
  },
  {
   "cell_type": "code",
   "execution_count": 8,
   "id": "0a772bce",
   "metadata": {},
   "outputs": [],
   "source": [
    "train_x = np.reshape(train_x, (train_x.shape[0],train_x.shape[1],1))"
   ]
  },
  {
   "cell_type": "code",
   "execution_count": 9,
   "id": "754d4643",
   "metadata": {},
   "outputs": [],
   "source": [
    "regressor = Sequential()\n",
    "regressor.add(LSTM(neurons, return_sequences = True, input_shape = (train_x.shape[1],1)))\n",
    "regressor.add(Dropout(dropout))\n",
    "\n",
    "if layers > 2:\n",
    "    for i in range(2,layers):\n",
    "        regressor.add(LSTM(neurons, return_sequences = True))\n",
    "        regressor.add(Dropout(dropout))\n",
    "\n",
    "regressor.add(LSTM(neurons))\n",
    "regressor.add(Dropout(dropout))\n",
    "\n",
    "regressor.add(Dense(units = 1))\n",
    "\n",
    "regressor.compile(optimizer = optimizer,loss = loss)"
   ]
  },
  {
   "cell_type": "code",
   "execution_count": 10,
   "id": "89485d40",
   "metadata": {},
   "outputs": [
    {
     "name": "stdout",
     "output_type": "stream",
     "text": [
      "Model: \"sequential\"\n",
      "_________________________________________________________________\n",
      " Layer (type)                Output Shape              Param #   \n",
      "=================================================================\n",
      " lstm (LSTM)                 (None, 64, 264)           280896    \n",
      "                                                                 \n",
      " dropout (Dropout)           (None, 64, 264)           0         \n",
      "                                                                 \n",
      " lstm_1 (LSTM)               (None, 64, 264)           558624    \n",
      "                                                                 \n",
      " dropout_1 (Dropout)         (None, 64, 264)           0         \n",
      "                                                                 \n",
      " lstm_2 (LSTM)               (None, 264)               558624    \n",
      "                                                                 \n",
      " dropout_2 (Dropout)         (None, 264)               0         \n",
      "                                                                 \n",
      " dense (Dense)               (None, 1)                 265       \n",
      "                                                                 \n",
      "=================================================================\n",
      "Total params: 1,398,409\n",
      "Trainable params: 1,398,409\n",
      "Non-trainable params: 0\n",
      "_________________________________________________________________\n"
     ]
    }
   ],
   "source": [
    "regressor.summary()"
   ]
  },
  {
   "cell_type": "code",
   "execution_count": 11,
   "id": "1cfb9f51",
   "metadata": {},
   "outputs": [
    {
     "name": "stdout",
     "output_type": "stream",
     "text": [
      "Epoch 1/64\n",
      "68/68 [==============================] - 57s 623ms/step - loss: 0.0100 - val_loss: 0.0024\n",
      "Epoch 2/64\n",
      "68/68 [==============================] - 39s 569ms/step - loss: 0.0017 - val_loss: 7.7368e-04\n",
      "Epoch 3/64\n",
      "68/68 [==============================] - 38s 566ms/step - loss: 0.0015 - val_loss: 7.4402e-04\n",
      "Epoch 4/64\n",
      "68/68 [==============================] - 38s 562ms/step - loss: 0.0017 - val_loss: 0.0012\n",
      "Epoch 5/64\n",
      "68/68 [==============================] - 38s 562ms/step - loss: 0.0014 - val_loss: 0.0010\n",
      "Epoch 6/64\n",
      "68/68 [==============================] - 38s 560ms/step - loss: 0.0011 - val_loss: 0.0031\n",
      "Epoch 7/64\n",
      "68/68 [==============================] - 39s 578ms/step - loss: 0.0011 - val_loss: 0.0012\n",
      "Epoch 8/64\n",
      "68/68 [==============================] - 38s 565ms/step - loss: 0.0012 - val_loss: 0.0014\n",
      "Epoch 9/64\n",
      "68/68 [==============================] - 39s 577ms/step - loss: 0.0011 - val_loss: 0.0039\n",
      "Epoch 10/64\n",
      "68/68 [==============================] - 39s 571ms/step - loss: 0.0011 - val_loss: 6.7122e-04\n",
      "Epoch 11/64\n",
      "68/68 [==============================] - 38s 562ms/step - loss: 0.0012 - val_loss: 0.0022\n",
      "Epoch 12/64\n",
      "68/68 [==============================] - 39s 570ms/step - loss: 0.0011 - val_loss: 5.2477e-04\n",
      "Epoch 13/64\n",
      "68/68 [==============================] - 39s 566ms/step - loss: 0.0011 - val_loss: 0.0043\n",
      "Epoch 14/64\n",
      "68/68 [==============================] - 39s 571ms/step - loss: 0.0013 - val_loss: 0.0053\n",
      "Epoch 15/64\n",
      "68/68 [==============================] - 38s 563ms/step - loss: 0.0011 - val_loss: 0.0023\n",
      "Epoch 16/64\n",
      "68/68 [==============================] - 39s 572ms/step - loss: 8.7645e-04 - val_loss: 0.0020\n",
      "Epoch 17/64\n",
      "68/68 [==============================] - 38s 562ms/step - loss: 0.0010 - val_loss: 0.0074\n",
      "Epoch 18/64\n",
      "68/68 [==============================] - 39s 568ms/step - loss: 0.0013 - val_loss: 8.4857e-04\n",
      "Epoch 19/64\n",
      "68/68 [==============================] - 39s 568ms/step - loss: 8.0076e-04 - val_loss: 0.0033\n",
      "Epoch 20/64\n",
      "68/68 [==============================] - 38s 563ms/step - loss: 0.0011 - val_loss: 5.2674e-04\n",
      "Epoch 21/64\n",
      "68/68 [==============================] - 38s 564ms/step - loss: 8.1235e-04 - val_loss: 3.4517e-04\n",
      "Epoch 22/64\n",
      "68/68 [==============================] - 38s 564ms/step - loss: 9.2073e-04 - val_loss: 0.0022\n",
      "Epoch 23/64\n",
      "68/68 [==============================] - 38s 564ms/step - loss: 7.8217e-04 - val_loss: 7.6465e-04\n",
      "Epoch 24/64\n",
      "68/68 [==============================] - 38s 563ms/step - loss: 7.8149e-04 - val_loss: 4.0290e-04\n",
      "Epoch 25/64\n",
      "68/68 [==============================] - 39s 574ms/step - loss: 7.5203e-04 - val_loss: 6.6202e-04\n",
      "Epoch 26/64\n",
      "68/68 [==============================] - 39s 567ms/step - loss: 6.9632e-04 - val_loss: 4.3262e-04\n",
      "Epoch 27/64\n",
      "68/68 [==============================] - 39s 575ms/step - loss: 7.5309e-04 - val_loss: 0.0020\n",
      "Epoch 28/64\n",
      "68/68 [==============================] - 38s 562ms/step - loss: 8.5792e-04 - val_loss: 0.0030\n",
      "Epoch 29/64\n",
      "68/68 [==============================] - 39s 579ms/step - loss: 8.6724e-04 - val_loss: 2.6315e-04\n",
      "Epoch 30/64\n",
      "68/68 [==============================] - 40s 589ms/step - loss: 6.8369e-04 - val_loss: 0.0014\n",
      "Epoch 31/64\n",
      "68/68 [==============================] - 39s 577ms/step - loss: 8.1610e-04 - val_loss: 2.8111e-04\n",
      "Epoch 32/64\n",
      "68/68 [==============================] - 39s 568ms/step - loss: 9.4371e-04 - val_loss: 0.0016\n",
      "Epoch 33/64\n",
      "68/68 [==============================] - 39s 573ms/step - loss: 6.1008e-04 - val_loss: 3.5738e-04\n",
      "Epoch 34/64\n",
      "68/68 [==============================] - 39s 566ms/step - loss: 7.1090e-04 - val_loss: 0.0030\n",
      "Epoch 35/64\n",
      "68/68 [==============================] - 39s 572ms/step - loss: 7.2506e-04 - val_loss: 9.7729e-04\n",
      "Epoch 36/64\n",
      "68/68 [==============================] - 39s 572ms/step - loss: 6.1879e-04 - val_loss: 2.9983e-04\n",
      "Epoch 37/64\n",
      "68/68 [==============================] - 39s 567ms/step - loss: 6.4185e-04 - val_loss: 4.5516e-04\n",
      "Epoch 38/64\n",
      "68/68 [==============================] - 39s 568ms/step - loss: 7.0378e-04 - val_loss: 5.5539e-04\n",
      "Epoch 39/64\n",
      "68/68 [==============================] - 39s 571ms/step - loss: 5.8221e-04 - val_loss: 0.0018\n",
      "Epoch 40/64\n",
      "68/68 [==============================] - 39s 569ms/step - loss: 7.6821e-04 - val_loss: 3.0229e-04\n",
      "Epoch 41/64\n",
      "68/68 [==============================] - 39s 572ms/step - loss: 6.2733e-04 - val_loss: 3.9500e-04\n",
      "Epoch 42/64\n",
      "68/68 [==============================] - 38s 566ms/step - loss: 5.8882e-04 - val_loss: 9.3296e-04\n",
      "Epoch 43/64\n",
      "68/68 [==============================] - 39s 567ms/step - loss: 6.3002e-04 - val_loss: 0.0012\n",
      "Epoch 44/64\n",
      "68/68 [==============================] - 39s 567ms/step - loss: 5.4227e-04 - val_loss: 9.9448e-04\n",
      "Epoch 45/64\n",
      "68/68 [==============================] - 39s 568ms/step - loss: 5.1598e-04 - val_loss: 0.0011\n",
      "Epoch 46/64\n",
      "68/68 [==============================] - 39s 569ms/step - loss: 5.6873e-04 - val_loss: 0.0022\n",
      "Epoch 47/64\n",
      "68/68 [==============================] - 39s 570ms/step - loss: 5.8720e-04 - val_loss: 0.0011\n",
      "Epoch 48/64\n",
      "68/68 [==============================] - 39s 570ms/step - loss: 5.5367e-04 - val_loss: 2.4039e-04\n",
      "Epoch 49/64\n",
      "68/68 [==============================] - 39s 568ms/step - loss: 6.1233e-04 - val_loss: 3.2121e-04\n",
      "Epoch 50/64\n",
      "68/68 [==============================] - 39s 574ms/step - loss: 5.7930e-04 - val_loss: 0.0010\n",
      "Epoch 51/64\n",
      "68/68 [==============================] - 39s 573ms/step - loss: 6.0442e-04 - val_loss: 2.7890e-04\n",
      "Epoch 52/64\n",
      "68/68 [==============================] - 39s 572ms/step - loss: 6.3740e-04 - val_loss: 0.0013\n",
      "Epoch 53/64\n",
      "68/68 [==============================] - 39s 578ms/step - loss: 5.8427e-04 - val_loss: 0.0015\n",
      "Epoch 54/64\n",
      "68/68 [==============================] - 39s 573ms/step - loss: 5.5585e-04 - val_loss: 3.0938e-04\n",
      "Epoch 55/64\n",
      "68/68 [==============================] - 39s 573ms/step - loss: 4.7052e-04 - val_loss: 5.6535e-04\n",
      "Epoch 56/64\n",
      "68/68 [==============================] - 40s 584ms/step - loss: 5.7491e-04 - val_loss: 0.0017\n",
      "Epoch 57/64\n",
      "68/68 [==============================] - 39s 575ms/step - loss: 7.5194e-04 - val_loss: 2.3459e-04\n",
      "Epoch 58/64\n",
      "68/68 [==============================] - 40s 585ms/step - loss: 5.5159e-04 - val_loss: 5.6801e-04\n",
      "Epoch 59/64\n",
      "68/68 [==============================] - 39s 576ms/step - loss: 4.9171e-04 - val_loss: 3.4327e-04\n",
      "Epoch 60/64\n",
      "68/68 [==============================] - 39s 580ms/step - loss: 5.0148e-04 - val_loss: 4.7519e-04\n",
      "Epoch 61/64\n",
      "68/68 [==============================] - 39s 580ms/step - loss: 5.2145e-04 - val_loss: 0.0023\n",
      "Epoch 62/64\n",
      "68/68 [==============================] - 40s 594ms/step - loss: 5.1225e-04 - val_loss: 4.3497e-04\n",
      "Epoch 63/64\n",
      "68/68 [==============================] - 39s 574ms/step - loss: 5.7736e-04 - val_loss: 0.0023\n",
      "Epoch 64/64\n",
      "68/68 [==============================] - 40s 592ms/step - loss: 5.7458e-04 - val_loss: 3.9926e-04\n"
     ]
    },
    {
     "data": {
      "text/plain": [
       "<keras.callbacks.History at 0x237b82787f0>"
      ]
     },
     "execution_count": 11,
     "metadata": {},
     "output_type": "execute_result"
    }
   ],
   "source": [
    "regressor.fit(train_x,train_y,epochs = epochs, batch_size = batch_size, validation_split = validation_split)"
   ]
  },
  {
   "cell_type": "code",
   "execution_count": 12,
   "id": "5f107853",
   "metadata": {},
   "outputs": [],
   "source": [
    "test_data = pd.concat((train[len(train) - timestamp:][metric], test[metric]), axis = 0)\n",
    "test_data = test_data.values\n",
    "test_data = test_data.reshape(-1,1)"
   ]
  },
  {
   "cell_type": "code",
   "execution_count": 13,
   "id": "caf09a50",
   "metadata": {},
   "outputs": [],
   "source": [
    "test_data = sc.transform(test_data)"
   ]
  },
  {
   "cell_type": "code",
   "execution_count": 14,
   "id": "e1311119",
   "metadata": {},
   "outputs": [],
   "source": [
    "test_x = []\n",
    "test_y = []\n",
    "for i in range(0, len(test_data) - timestamp - 1):\n",
    "    test_x.append(test_data[i : i + timestamp, 0])\n",
    "    test_y.append(test_data[i + timestamp, 0])\n",
    "test_x, test_y = np.array(test_x), np.array(test_y)"
   ]
  },
  {
   "cell_type": "code",
   "execution_count": 15,
   "id": "b507843c",
   "metadata": {},
   "outputs": [],
   "source": [
    "test_x = np.reshape(test_x, (test_x.shape[0],test_x.shape[1],1))"
   ]
  },
  {
   "cell_type": "code",
   "execution_count": 17,
   "id": "4be5222c",
   "metadata": {},
   "outputs": [
    {
     "name": "stdout",
     "output_type": "stream",
     "text": [
      "4/4 [==============================] - 3s 347ms/step\n"
     ]
    }
   ],
   "source": [
    "predicted_price = sc.inverse_transform(regressor.predict(test_x))\n",
    "real_stock_price = test[metric]\n"
   ]
  },
  {
   "cell_type": "code",
   "execution_count": 18,
   "id": "704d3786",
   "metadata": {},
   "outputs": [
    {
     "data": {
      "image/png": "[encoded data removed]",
      "text/plain": [
       "<Figure size 640x480 with 1 Axes>"
      ]
     },
     "metadata": {},
     "output_type": "display_data"
    }
   ],
   "source": [
    "def plot_pred(metric, real_stock_price, predicted_price):\n",
    "    plt.plot(real_stock_price,color = 'red', label = 'Real Price')\n",
    "    plt.plot(predicted_price, color = 'blue', label = 'Predicted Price')\n",
    "    plt.title('Google ' +metric+ ' Stock Price Prediction')\n",
    "    plt.xlabel('Time')\n",
    "    plt.ylabel('Google ' +metric+ ' Stock Price')\n",
    "    plt.legend()\n",
    "    plt.show()\n",
    "\n",
    "plot_pred(metric, real_stock_price, predicted_price)\n"
   ]
  },
  {
   "cell_type": "code",
   "execution_count": null,
   "id": "f48649d8",
   "metadata": {},
   "outputs": [],
   "source": []
  }
 ],
 "metadata": {
  "kernelspec": {
   "display_name": "Python 3 (ipykernel)",
   "language": "python",
   "name": "python3"
  },
  "language_info": {
   "codemirror_mode": {
    "name": "ipython",
    "version": 3
   },
   "file_extension": ".py",
   "mimetype": "text/x-python",
   "name": "python",
   "nbconvert_exporter": "python",
   "pygments_lexer": "ipython3",
   "version": "3.9.13"
  }
 },
 "nbformat": 4,
 "nbformat_minor": 5
}
